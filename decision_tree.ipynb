{
 "cells": [
  {
   "cell_type": "markdown",
   "metadata": {},
   "source": [
    "# Traditional ML Models for ZKML: Decision Tree\n",
    "\n",
    "*In this series of tutorials, we delve into the world of traditional machine learning models for ZKML. Despite the hype surrounding advanced AI techniques, traditional ML models often offer superior performance or sufficiently robust results for specific applications. This is particularly true for ZKML use cases, where computational proof costs can be a critical factor. We aim to equip you with guides on how to implement machine learning algorithms suitable for Giza platform applications. This includes practical steps for converting your scikit-learn models to the ONNX format, transpiling them to Orion Cairo, and deploying inference endpoints for prediction in AI Action.*\n",
    "\n",
    "In this tutorial, you will learn how to use the Giza tools through a Decision Tree model."
   ]
  },
  {
   "cell_type": "markdown",
   "metadata": {},
   "source": [
    "## Before Starting\n",
    "Before we start, ensure that you have installed the Giza stack, created a user, and logged-in. "
   ]
  },
  {
   "cell_type": "code",
   "execution_count": null,
   "metadata": {
    "vscode": {
     "languageId": "shellscript"
    }
   },
   "outputs": [],
   "source": [
    "! giza users login # Login to your account"
   ]
  },
  {
   "cell_type": "markdown",
   "metadata": {},
   "source": [
    "## Create and Train a Decision Tree Model\n",
    "We'll start by creating a simple decision tree model using Scikit-Learn and train it on the iris dataset. We will then use the [Hummingbirds](https://github.com/microsoft/hummingbird) library to convert the model to torch graphs."
   ]
  },
  {
   "cell_type": "code",
   "execution_count": null,
   "metadata": {},
   "outputs": [],
   "source": [
    "import json\n",
    "import numpy as np\n",
    "from sklearn.datasets import load_iris\n",
    "from sklearn.model_selection import train_test_split\n",
    "from sklearn.tree import DecisionTreeClassifier as De\n",
    "from hummingbird.ml import convert\n",
    "import torch\n",
    "import os\n",
    "\n",
    "\n",
    "\n",
    "iris = load_iris()\n",
    "X, y = iris.data, iris.target\n",
    "X = X.astype(np.float32)\n",
    "X_train, X_test, y_train, y_test = train_test_split(X, y)\n",
    "clr = De()\n",
    "clr.fit(X_train, y_train)\n",
    "\n",
    "model = convert(clr, \"torch\", X_test[:1]).model"
   ]
  },
  {
   "cell_type": "markdown",
   "metadata": {},
   "source": [
    "## Convert the Model to ONNX Format\n",
    "Giza only supports ONNX models so you'll need to convert the model to ONNX format. This can be done post training."
   ]
  },
  {
   "cell_type": "code",
   "execution_count": null,
   "metadata": {},
   "outputs": [],
   "source": [
    "import torch.onnx\n",
    "\n",
    "input_sample = torch.from_numpy(X_test[:1])\n",
    "\n",
    "# Specify the path to save the ONNX model\n",
    "onnx_model_path = \"decision_tree.onnx\"\n",
    "\n",
    "# Export the model\n",
    "torch.onnx.export(model,\n",
    "                  input_sample,\n",
    "                  onnx_model_path,     # where to save the model\n",
    "                  export_params=True,  # store the trained parameter weights inside the model file\n",
    "                  opset_version=17,    # the ONNX version to export the model to\n",
    "                  do_constant_folding=True,  # whether to execute constant folding for optimization\n",
    "                  input_names=['input'],   # the model's input names\n",
    "                  output_names=['output'],  # the model's output names\n",
    "                  dynamic_axes={'input': {0: 'batch_size'},  # variable length axes\n",
    "                                'output': {0: 'batch_size'}})"
   ]
  },
  {
   "cell_type": "markdown",
   "metadata": {},
   "source": [
    "## Transpile your model to Orion Cairo\n",
    "\n",
    "We will use the Giza-CLI to transpile our ONNX model to Orion Cairo."
   ]
  },
  {
   "cell_type": "code",
   "execution_count": null,
   "metadata": {
    "vscode": {
     "languageId": "shellscript"
    }
   },
   "outputs": [],
   "source": [
    "! giza transpile decision_tree.onnx --output-path verifiable_dt"
   ]
  },
  {
   "cell_type": "markdown",
   "metadata": {},
   "source": [
    "## Deploy an inference endpoint\n",
    "\n",
    "Now that our model is transpiled to Cairo we can deploy an endpoint to run verifiable inferences. We will use Giza CLI again to run and deploy an endpoint.\n",
    "Ensure to replace `model-id` and `version-id` with your ids provided during transpilation."
   ]
  },
  {
   "cell_type": "code",
   "execution_count": null,
   "metadata": {
    "vscode": {
     "languageId": "shellscript"
    }
   },
   "outputs": [],
   "source": [
    "! giza endpoints deploy --model-id 569 --version-id 2"
   ]
  },
  {
   "cell_type": "markdown",
   "metadata": {},
   "source": [
    "## Run a verifiable inference in AI Actions\n",
    "\n",
    "To streamline a verifiable inference, you might consider using the endpoint URL obtained after transpilation. However, this approach requires manual serialization of the input for the Cairo program and handling the deserialization process. To make this process more user-friendly and keep you within a Python environment, we've introduced AI Actions—a Python SDK designed to facilitate the creation of ML workflows and execution of verifiable predictions. When you initiate a prediction, our system automatically retrieves the endpoint URL you deployed earlier, converts your input into Cairo-compatible format, executes the prediction, and then converts the output back into a numpy object. More info about [AI Actions here.](https://actions.gizatech.xyz/)"
   ]
  },
  {
   "cell_type": "markdown",
   "metadata": {},
   "source": [
    "First ensure you have an AI Actions workspace created. This step grants access to a user-friendly UI dashboard, enabling you to monitor and manage workflows with ease."
   ]
  },
  {
   "cell_type": "code",
   "execution_count": null,
   "metadata": {
    "vscode": {
     "languageId": "shellscript"
    }
   },
   "outputs": [],
   "source": [
    "! giza workspaces get\n",
    "\n",
    "# 🚨 If you haven't set up a workspace yet, you can establish one by executing the command below:\n",
    "# `! giza workspaces create`"
   ]
  },
  {
   "cell_type": "markdown",
   "metadata": {},
   "source": [
    "Now let's run a verifiable inference with AI Actions. To design your workflow in AI Actions, you will need to define your task with the `@task` decorator and then action your tasks with the `@action` decorator. You can track the progress of your workflow via the workspace URL previously provided."
   ]
  },
  {
   "cell_type": "code",
   "execution_count": null,
   "metadata": {},
   "outputs": [],
   "source": [
    "from giza_actions.model import GizaModel\n",
    "from giza_actions.action import action\n",
    "from giza_actions.task import task\n",
    "\n",
    "MODEL_ID = 569  # Update with your model ID\n",
    "VERSION_ID = 2  # Update with your version ID\n",
    "\n",
    "\n",
    "@task(name=\"PredictDTModel\")\n",
    "def prediction(input, model_id, version_id):\n",
    "    model = GizaModel(id=model_id, version=version_id)\n",
    "\n",
    "    result = model.predict(\n",
    "        input_feed={'input': input}, \n",
    "        custom_output_dtype=\"(Tensor<i32>, Tensor<FP16x16>)\" # Decision Tree will always have this output dtype.\n",
    "    )\n",
    "    print(result)\n",
    "\n",
    "    return result\n",
    "\n",
    "\n",
    "@action(name=\"ExectuteCairoDT\", log_prints=True)\n",
    "def execution():\n",
    "    # The input data type should match the model's expected input\n",
    "    input = input_sample.numpy()\n",
    "\n",
    "    result = prediction(input, MODEL_ID, VERSION_ID)\n",
    "\n",
    "    return result\n",
    "\n",
    "\n",
    "execution()"
   ]
  },
  {
   "cell_type": "markdown",
   "metadata": {},
   "source": [
    "## Download the proof\n",
    "\n",
    "Initiating a verifiable inference sets off a proving job on our server, sparing you the complexities of installing and configuring the prover yourself. Upon completion, you can download your proof."
   ]
  },
  {
   "cell_type": "markdown",
   "metadata": {},
   "source": [
    "First, let's check the status of the proving job to ensure that it has been completed. \n",
    "\n",
    "🚨 Remember to substitute `endpoint-id` and `proof-id` with the specific IDs assigned to you throughout this tutorial."
   ]
  },
  {
   "cell_type": "code",
   "execution_count": null,
   "metadata": {
    "vscode": {
     "languageId": "shellscript"
    }
   },
   "outputs": [],
   "source": [
    "! giza endpoints get-proof --endpoint-id 36 --proof-id 3bb53193c43048b7b47abfefe32b569a"
   ]
  },
  {
   "cell_type": "markdown",
   "metadata": {},
   "source": [
    "Once the proof is ready, you can download it."
   ]
  },
  {
   "cell_type": "code",
   "execution_count": null,
   "metadata": {
    "vscode": {
     "languageId": "shellscript"
    }
   },
   "outputs": [],
   "source": [
    "! giza endpoints download-proof --endpoint-id 36 --proof-id 3bb53193c43048b7b47abfefe32b569a --output-path zkdt.proof"
   ]
  }
 ],
 "metadata": {
  "kernelspec": {
   "display_name": "giza-actions-mYf3m_Lk-py3.11",
   "language": "python",
   "name": "python3"
  },
  "language_info": {
   "codemirror_mode": {
    "name": "ipython",
    "version": 3
   },
   "file_extension": ".py",
   "mimetype": "text/x-python",
   "name": "python",
   "nbconvert_exporter": "python",
   "pygments_lexer": "ipython3",
   "version": "3.11.0rc1"
  }
 },
 "nbformat": 4,
 "nbformat_minor": 2
}
